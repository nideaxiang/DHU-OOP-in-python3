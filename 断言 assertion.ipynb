{
 "cells": [
  {
   "cell_type": "markdown",
   "id": "6c6ce3a7",
   "metadata": {},
   "source": [
    "# 断言 assertion"
   ]
  },
  {
   "cell_type": "code",
   "execution_count": null,
   "id": "22041d3a",
   "metadata": {},
   "outputs": [],
   "source": [
    "#基本语法\n",
    "assert expression[, assertion_message]"
   ]
  },
  {
   "cell_type": "code",
   "execution_count": 1,
   "id": "0b3f94c4",
   "metadata": {},
   "outputs": [
    {
     "ename": "SyntaxError",
     "evalue": "invalid syntax (<ipython-input-1-f6dc609c1372>, line 1)",
     "output_type": "error",
     "traceback": [
      "\u001b[1;36m  File \u001b[1;32m\"<ipython-input-1-f6dc609c1372>\"\u001b[1;36m, line \u001b[1;32m1\u001b[0m\n\u001b[1;33m    Traceback (most recent call last):\u001b[0m\n\u001b[1;37m                         ^\u001b[0m\n\u001b[1;31mSyntaxError\u001b[0m\u001b[1;31m:\u001b[0m invalid syntax\n"
     ]
    }
   ],
   "source": [
    "#工作效果\n",
    "Traceback (most recent call last):\n",
    "    ...\n",
    "AssertionError"
   ]
  },
  {
   "cell_type": "markdown",
   "id": "4577441d",
   "metadata": {},
   "source": [
    "如果语句的条件计算结果为 false，则引发 AssertionError。如果提供可选的断言消息，则此消息将在内部用作类的参数。无论哪种方式，引发的异常都会中断程序的执行。"
   ]
  },
  {
   "cell_type": "code",
   "execution_count": null,
   "id": "8a9ae4c6",
   "metadata": {},
   "outputs": [],
   "source": [
    "#长断言\n",
    "#可以使用反斜杠字符\\来分割多个条件\n",
    "number = 42\n",
    "\n",
    "assert number > 0 and isinstance(number, int), \\\n",
    "    f\"number greater than 0 expected, got: {number}\""
   ]
  },
  {
   "cell_type": "code",
   "execution_count": null,
   "id": "b419e8e8",
   "metadata": {},
   "outputs": [],
   "source": [
    "# 不常见的断言\n",
    "\n",
    "##########################\n",
    "#1.成员身份断言 可以在列表、元组、集等进行使用\n",
    ">>> # Membership assertions\n",
    ">>> numbers = [1, 2, 3, 4, 5]\n",
    ">>> assert 4 in numbers\n",
    ">>> assert 10 in numbers\n",
    "Traceback (most recent call last):\n",
    "    ...\n",
    "AssertionError\n",
    "##########################\n",
    "#2.标识断言 提供了一种测试对象标识的方法\n",
    ">>> # Identity assertions\n",
    ">>> x = 1\n",
    ">>> y = x\n",
    ">>> null = None\n",
    "\n",
    ">>> assert x is y\n",
    ">>> assert x is not y\n",
    "Traceback (most recent call last):\n",
    "    ...\n",
    "AssertionError\n",
    "\n",
    ">>> assert null is None\n",
    ">>> assert null is not None\n",
    "Traceback (most recent call last):\n",
    "    ...\n",
    "AssertionError\n",
    "\n",
    "##########################\n",
    "#3.类型检查断言   通常涉及使用内置的 isinstance（） 函数来确保给定对象是一个或多个类的实例\n",
    ">>> # Type check assertions\n",
    ">>> number = 42\n",
    ">>> assert isinstance(number, int)\n",
    "\n",
    ">>> number = 42.0\n",
    ">>> assert isinstance(number, int)\n",
    "Traceback (most recent call last):\n",
    "    ...\n",
    "AssertionError\n"
   ]
  },
  {
   "cell_type": "markdown",
   "id": "2b0de370",
   "metadata": {},
   "source": [
    "### 在生产环境中禁用性能断言"
   ]
  },
  {
   "cell_type": "code",
   "execution_count": null,
   "id": "b7b9f7f4",
   "metadata": {},
   "outputs": [],
   "source": [
    "#命令行禁用启动\n",
    "python -O xx.py"
   ]
  },
  {
   "cell_type": "markdown",
   "id": "c600ede0",
   "metadata": {},
   "source": [
    "#### 关于_debug_\n",
    "这是一个常量，因为一旦 Python 解释器运行，就无法更改其值：assert__debug__True\n",
    "正常（或调试）\tTrue\n",
    "\n",
    "优化\tFalse\n"
   ]
  },
  {
   "cell_type": "code",
   "execution_count": null,
   "id": "351b72ae",
   "metadata": {},
   "outputs": [],
   "source": [
    "####debug 默认为真\n",
    "\n",
    ">>> import builtins\n",
    ">>> \"__debug__\" in dir(builtins)\n",
    "True\n",
    "\n",
    ">>> __debug__\n",
    "True\n",
    "\n",
    ">>> __debug__ = False\n",
    "  File \"<stdin>\", line 1\n",
    "SyntaxError: cannot assign to __debug__"
   ]
  },
  {
   "cell_type": "markdown",
   "id": "602b5c33",
   "metadata": {},
   "source": [
    "## 使用断言测试代码"
   ]
  },
  {
   "cell_type": "markdown",
   "id": "fcf78f48",
   "metadata": {},
   "source": [
    "pytest 第三方库是 Python 中流行的测试框架\n"
   ]
  },
  {
   "cell_type": "markdown",
   "id": "689d8492",
   "metadata": {},
   "source": [
    "假设我们有一个加和函数，我们想要编写测试用例来确保这个函数的功能是正确的。我们可以使用 Pytest 编写如下的测试用例："
   ]
  },
  {
   "cell_type": "code",
   "execution_count": 3,
   "id": "517d9458",
   "metadata": {},
   "outputs": [],
   "source": [
    "\n"
   ]
  },
  {
   "cell_type": "code",
   "execution_count": 8,
   "id": "ddce9d41",
   "metadata": {},
   "outputs": [],
   "source": [
    "def add_numbers(a, b):\n",
    "    return a + b\n",
    "import pytest\n",
    "\n",
    "\n",
    "def test_add_numbers():\n",
    "    assert add_numbers(1, 2) == 3\n",
    "    assert add_numbers(0, 0) == 0\n",
    "    assert add_numbers(-1, 1) == 0\n",
    "\n",
    "def test_add_numbers_invalid_input():\n",
    "    with pytest.raises(TypeError):\n",
    "        add_numbers('1', 2)\n",
    "    with pytest.raises(TypeError):\n",
    "        add_numbers(1, '2')\n"
   ]
  },
  {
   "cell_type": "markdown",
   "id": "10ac8b9e",
   "metadata": {},
   "source": [
    "在这个例子中，我们定义了两个测试用例函数 test_add_numbers 和 test_add_numbers_invalid_input。这些函数以 test_ 开头，因此 Pytest 会自动识别它们为测试用例。\n",
    "\n",
    "在 test_add_numbers 中，我们使用 assert 语句来断言函数 add_numbers 的返回值是否符合预期。而在 test_add_numbers_invalid_input 中，我们使用 pytest.raises 来测试函数在接收到无效输入时是否会抛出异常。\n",
    "\n",
    "通过运行 Pytest，它将自动查找并执行所有以 test_ 开头的测试用例，并输出测试结果。"
   ]
  },
  {
   "cell_type": "markdown",
   "id": "56986ed3",
   "metadata": {},
   "source": [
    "### 不适用范围\n",
    "\n",
    "-处理和验证数据\n",
    "\n",
    "\n",
    "-处理错误\n",
    "\n",
    "\n",
    "-运行有副作用的操作"
   ]
  },
  {
   "cell_type": "markdown",
   "id": "5d8e2684",
   "metadata": {},
   "source": [
    "### 用于数据处理和验证assert\n",
    "不应使用语句来验证用户的输入或来自外部源的任何其他输入数据。这是因为生产代码通常会禁用断言，这将删除所有验证。\n",
    "也就是说在禁用时候容易出错，最好别用来限制输入输出\n"
   ]
  },
  {
   "cell_type": "code",
   "execution_count": null,
   "id": "227eb4e6",
   "metadata": {},
   "outputs": [],
   "source": [
    "# 假如禁用，则容易出错\n",
    "\n",
    ">>> # 200% off\n",
    ">>> price_with_discount(shoes, 2.0)\n",
    "Traceback (most recent call last):\n",
    "    ...\n",
    "AssertionError: discount expects a value between 0 and 1\n",
    "\n",
    ">>> # 100% off\n",
    ">>> price_with_discount(shoes, 1)\n",
    "Traceback (most recent call last):\n",
    "    ...\n",
    "AssertionError: discount expects a value between 0 and 1"
   ]
  },
  {
   "cell_type": "markdown",
   "id": "e3c4026e",
   "metadata": {},
   "source": [
    "### 处理错误assert\n",
    "断言的另一个重要缺陷是，有时开发人员将它们用作错误处理的快速形式。因此，如果生产代码删除了断言，则重要的错误检查也会从代码中删除。因此，请记住，断言并不能替代良好的错误处理。"
   ]
  },
  {
   "cell_type": "code",
   "execution_count": null,
   "id": "290ad7ee",
   "metadata": {},
   "outputs": [],
   "source": [
    "# Bad practice\n",
    "def square(x):\n",
    "    assert x >= 0, \"only positive numbers are allowed\"\n",
    "    return x ** 2\n",
    "\n",
    "try:\n",
    "    square(-2)\n",
    "except AssertionError as error:\n",
    "    print(error)"
   ]
  },
  {
   "cell_type": "markdown",
   "id": "733256a3",
   "metadata": {},
   "source": [
    "### 在具有副作用的表达式上运行assert\n",
    "当您使用此语句来检查具有某种副作用的操作、函数或表达式时，会出现该语句的另一个微妙陷阱。换言之，这些操作修改操作范围之外的对象的状态。"
   ]
  },
  {
   "cell_type": "code",
   "execution_count": null,
   "id": "a4794412",
   "metadata": {},
   "outputs": [],
   "source": [
    ">>> sample = [42, 27, 40, 38]\n",
    "\n",
    ">>> def popped(sample, index=-1):\n",
    "...     item = sample.pop(index)\n",
    "...     return item\n",
    "...\n",
    "\n",
    ">>> assert sample[-1] == popped(sample)\n",
    ">>> assert sample[1] == popped(sample, 1)\n",
    "\n",
    ">>> sample\n",
    "[42, 40]"
   ]
  },
  {
   "cell_type": "markdown",
   "id": "e2604bd7",
   "metadata": {},
   "source": [
    "# 断言的坏处\n",
    "\n",
    "1.花时间执行\n",
    "2.使用额外的内存"
   ]
  },
  {
   "cell_type": "code",
   "execution_count": null,
   "id": "76bad183",
   "metadata": {},
   "outputs": [],
   "source": []
  }
 ],
 "metadata": {
  "kernelspec": {
   "display_name": "Python 3",
   "language": "python",
   "name": "python3"
  },
  "language_info": {
   "codemirror_mode": {
    "name": "ipython",
    "version": 3
   },
   "file_extension": ".py",
   "mimetype": "text/x-python",
   "name": "python",
   "nbconvert_exporter": "python",
   "pygments_lexer": "ipython3",
   "version": "3.7.6"
  }
 },
 "nbformat": 4,
 "nbformat_minor": 5
}
