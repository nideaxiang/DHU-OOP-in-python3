{
 "cells": [
  {
   "cell_type": "code",
   "execution_count": null,
   "id": "399a8387",
   "metadata": {},
   "outputs": [],
   "source": [
    "#例1.3-1.5 安装包\n",
    "python -m pip install 包名\n",
    "#指定版本号\n",
    "python -m pip install 包名==1.4\n",
    "#范围版本\n",
    "python -m pip install 包名>=1,<2\n",
    "#更新安装包\n",
    "python -m pip install -U 包名"
   ]
  },
  {
   "cell_type": "code",
   "execution_count": 4,
   "id": "63a0991f",
   "metadata": {},
   "outputs": [
    {
     "data": {
      "text/plain": [
       "23"
      ]
     },
     "execution_count": 4,
     "metadata": {},
     "output_type": "execute_result"
    }
   ],
   "source": [
    "#例1.9 使用解释器环境中特殊变量“_”\n",
    "11+12\n",
    "_"
   ]
  },
  {
   "cell_type": "code",
   "execution_count": 9,
   "id": "3dc8a985",
   "metadata": {},
   "outputs": [
    {
     "data": {
      "text/plain": [
       "(4, 4, 4)"
      ]
     },
     "execution_count": 9,
     "metadata": {},
     "output_type": "execute_result"
    }
   ],
   "source": [
    "#例1.10 逗号可以分隔多个表达式，返回的结果为元组\n",
    "#这是因为元组的字面量对象创建是可以直接省略小括号的\n",
    "2+2,2**2,2+2\n"
   ]
  },
  {
   "cell_type": "code",
   "execution_count": null,
   "id": "49b846e3",
   "metadata": {},
   "outputs": [],
   "source": [
    "#例1.19 使用命令行参数\n",
    "   # 在文件中编写,留下参数接口\n",
    "    import sys\n",
    "  #在命令行中调用python文件时候，第一个参数argv[0]为脚本名\n",
    "    python 路径 argv[0] argv[1] "
   ]
  },
  {
   "cell_type": "code",
   "execution_count": null,
   "id": "c25553b5",
   "metadata": {},
   "outputs": [],
   "source": [
    "#例1.22 help()查看帮助\n",
    "#查看全局说明\n",
    "help()\n"
   ]
  },
  {
   "cell_type": "code",
   "execution_count": null,
   "id": "f078cb0d",
   "metadata": {},
   "outputs": [],
   "source": []
  },
  {
   "cell_type": "markdown",
   "id": "70f26819",
   "metadata": {},
   "source": [
    "# 第二章例题"
   ]
  },
  {
   "cell_type": "code",
   "execution_count": 10,
   "id": "602aa508",
   "metadata": {},
   "outputs": [
    {
     "data": {
      "text/plain": [
       "(1+2j)"
      ]
     },
     "execution_count": 10,
     "metadata": {},
     "output_type": "execute_result"
    }
   ],
   "source": [
    "#例2.4 基于字面量实例化\n",
    "123\n",
    "\"abc\"\n",
    "#例2.5 使用类对象实例化对象\n",
    "int(12)\n",
    "complex(1,2)"
   ]
  },
  {
   "cell_type": "code",
   "execution_count": null,
   "id": "6de21c6a",
   "metadata": {},
   "outputs": [],
   "source": [
    "# 2.6  对象的引用\n",
    "a=int(123) #对类实例化的引用\n",
    "a=123  # 字面量的引用\n",
    "\n"
   ]
  },
  {
   "cell_type": "code",
   "execution_count": 12,
   "id": "92328617",
   "metadata": {},
   "outputs": [
    {
     "name": "stdout",
     "output_type": "stream",
     "text": [
      "2323929008904\n",
      "2323929008904\n",
      "[1, 2, 4]\n"
     ]
    }
   ],
   "source": [
    "#2.13 可变对象可以改变对象的值\n",
    "x=y=[1,2]\n",
    "print(id(x))\n",
    "print(id(y))\n",
    "x.append(4) #虽然是在x上进行了改变，但由于x,y都指向同一个对象，那么在修改x的对象的同时y的对象也相同地修改了\n",
    "print(y)\n"
   ]
  },
  {
   "cell_type": "code",
   "execution_count": null,
   "id": "5bb1780f",
   "metadata": {},
   "outputs": [],
   "source": [
    "#2.20 变量交互，原理：序列解包\n",
    "a,b=b,a\n"
   ]
  },
  {
   "cell_type": "markdown",
   "id": "cded40a3",
   "metadata": {},
   "source": [
    "# 错题\n"
   ]
  },
  {
   "cell_type": "code",
   "execution_count": 5,
   "id": "ba56ddcc",
   "metadata": {},
   "outputs": [
    {
     "name": "stdout",
     "output_type": "stream",
     "text": [
      "<class 'NoneType'>\n",
      "<class 'function'>\n"
     ]
    }
   ],
   "source": [
    "# 此处判断类型的对象不是函数本身，而是函数的返回值，返回空语句，则为None\n",
    "def f():\n",
    "    pass\n",
    "print(type(f()))\n",
    "print(type(f))#若判断函数本身，则为function"
   ]
  },
  {
   "cell_type": "code",
   "execution_count": 1,
   "id": "b08c2537",
   "metadata": {},
   "outputs": [
    {
     "name": "stdout",
     "output_type": "stream",
     "text": [
      "9\n",
      "8\n",
      "7\n",
      "6\n"
     ]
    }
   ],
   "source": [
    "num=6789\n",
    "while (num !=0):\n",
    "    print(num % 10)#取10的模，相当于取个位上的数字\n",
    "    num=num//10 #取10的整除，相当于舍弃掉个位"
   ]
  },
  {
   "cell_type": "code",
   "execution_count": 15,
   "id": "28d4dfd0",
   "metadata": {},
   "outputs": [
    {
     "data": {
      "text/plain": [
       "True"
      ]
     },
     "execution_count": 15,
     "metadata": {},
     "output_type": "execute_result"
    }
   ],
   "source": [
    "#数学关系表达式2<x<=20的表示方式\n",
    "x1=10\n",
    "2<x1<=20\n",
    "2<x1 and x1<20\n",
    "2<x1 & x1<=20\n",
    "# 三个式子均可运行"
   ]
  },
  {
   "cell_type": "code",
   "execution_count": null,
   "id": "8c9dea8c",
   "metadata": {},
   "outputs": [],
   "source": []
  }
 ],
 "metadata": {
  "kernelspec": {
   "display_name": "Python 3",
   "language": "python",
   "name": "python3"
  },
  "language_info": {
   "codemirror_mode": {
    "name": "ipython",
    "version": 3
   },
   "file_extension": ".py",
   "mimetype": "text/x-python",
   "name": "python",
   "nbconvert_exporter": "python",
   "pygments_lexer": "ipython3",
   "version": "3.7.6"
  }
 },
 "nbformat": 4,
 "nbformat_minor": 5
}
