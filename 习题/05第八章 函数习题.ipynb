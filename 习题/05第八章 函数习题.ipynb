{
 "cells": [
  {
   "cell_type": "code",
   "execution_count": 1,
   "id": "a1558c03",
   "metadata": {},
   "outputs": [
    {
     "name": "stdout",
     "output_type": "stream",
     "text": [
      "100\n",
      "110\n"
     ]
    }
   ],
   "source": [
    "#例8.7 8.8  \n",
    "#传递不可变对象引用 int\n",
    "i=100\n",
    "def f(k,n):\n",
    "    k+=n # 传入k的位置的参数是一个引用 \n",
    "f(i,10) #在调用函数时，传递的是对象的引用(100)，即是i的对象100,由于无法改变不可变对象，则函数调用结束后仍为100\n",
    "print(i)\n",
    "\n",
    "#传递不可变对象引用 int 并实现对值的改变\n",
    "i=100\n",
    "def f(k,n):\n",
    "    k+=n\n",
    "    return k #首先是使得函数有一个返回值\n",
    "i=f(100,10) #在调用函数时,使用赋值语句，重新对变量i的引用进行了绑定！则函数调用结束后，同时完成了赋值，i为110\n",
    "print(i)"
   ]
  },
  {
   "cell_type": "code",
   "execution_count": 11,
   "id": "c31359ec",
   "metadata": {},
   "outputs": [
    {
     "name": "stdout",
     "output_type": "stream",
     "text": [
      "[1, 2, '33']\n"
     ]
    }
   ],
   "source": [
    "# 例8.9 传递可变对象\n",
    "i=[1,2]\n",
    "def f1(k,n):\n",
    "    k.append(n) # 引用没有改变\n",
    "f1(i,'33') #即使函数没有return语句，没有重新进行赋值绑定，也完成了对i的改变\n",
    "print(i) "
   ]
  },
  {
   "cell_type": "code",
   "execution_count": 4,
   "id": "f6b31ff2",
   "metadata": {},
   "outputs": [
    {
     "ename": "SyntaxError",
     "evalue": "non-default argument follows default argument (<ipython-input-4-ac42260586ad>, line 2)",
     "output_type": "error",
     "traceback": [
      "\u001b[1;36m  File \u001b[1;32m\"<ipython-input-4-ac42260586ad>\"\u001b[1;36m, line \u001b[1;32m2\u001b[0m\n\u001b[1;33m    def f1(a=5,b):\u001b[0m\n\u001b[1;37m          ^\u001b[0m\n\u001b[1;31mSyntaxError\u001b[0m\u001b[1;31m:\u001b[0m non-default argument follows default argument\n"
     ]
    }
   ],
   "source": [
    "# 声明参数顺序必须先必选后可选 否则报错\n",
    "def f1(a=5,b):\n",
    "    pass\n"
   ]
  },
  {
   "cell_type": "code",
   "execution_count": 5,
   "id": "5cca23c0",
   "metadata": {},
   "outputs": [],
   "source": [
    "# 可选参数的声明,其实可以将可变参数放在最前，但在后续的传参中要注意强制命名参数\n",
    "def f2(*a,b,c):\n",
    "    pass\n",
    "# 但**字典可变参数，一定需要放在最后\n",
    "def f6(a,b,c,**e):\n",
    "    pass"
   ]
  },
  {
   "cell_type": "code",
   "execution_count": 6,
   "id": "a7d22e02",
   "metadata": {},
   "outputs": [
    {
     "name": "stdout",
     "output_type": "stream",
     "text": [
      "2357111317192329313741434753596167717379838997"
     ]
    }
   ],
   "source": [
    "# 函数返回值-素数的判断\n",
    "def is_prime(n):\n",
    "    if n<2:return False # 1和0不是素数\n",
    "    i=2\n",
    "    while i*i<=n:\n",
    "        if n%i==0:return False #可以被一个整数的平方根整除则不是素数\n",
    "        i+=1\n",
    "    return True\n",
    "\n",
    "for i in range(100): # 对函数进行调用\n",
    "    if is_prime(i):print(i,end='')"
   ]
  },
  {
   "cell_type": "code",
   "execution_count": 5,
   "id": "276590cc",
   "metadata": {},
   "outputs": [
    {
     "name": "stdout",
     "output_type": "stream",
     "text": [
      "101\n"
     ]
    },
    {
     "ename": "UnboundLocalError",
     "evalue": "local variable 'i' referenced before assignment",
     "output_type": "error",
     "traceback": [
      "\u001b[1;31m---------------------------------------------------------------------------\u001b[0m",
      "\u001b[1;31mUnboundLocalError\u001b[0m                         Traceback (most recent call last)",
      "\u001b[1;32m<ipython-input-5-7259f86e1d0c>\u001b[0m in \u001b[0;36m<module>\u001b[1;34m\u001b[0m\n\u001b[0;32m      8\u001b[0m \u001b[0mf4\u001b[0m\u001b[1;33m(\u001b[0m\u001b[1;33m)\u001b[0m\u001b[1;33m\u001b[0m\u001b[1;33m\u001b[0m\u001b[0m\n\u001b[0;32m      9\u001b[0m \u001b[0mprint\u001b[0m\u001b[1;33m(\u001b[0m\u001b[0mi\u001b[0m\u001b[1;33m)\u001b[0m\u001b[1;33m\u001b[0m\u001b[1;33m\u001b[0m\u001b[0m\n\u001b[1;32m---> 10\u001b[1;33m \u001b[0mf3\u001b[0m\u001b[1;33m(\u001b[0m\u001b[1;33m)\u001b[0m\u001b[1;33m\u001b[0m\u001b[1;33m\u001b[0m\u001b[0m\n\u001b[0m\u001b[0;32m     11\u001b[0m \u001b[1;33m\u001b[0m\u001b[0m\n",
      "\u001b[1;32m<ipython-input-5-7259f86e1d0c>\u001b[0m in \u001b[0;36mf3\u001b[1;34m()\u001b[0m\n\u001b[0;32m      2\u001b[0m \u001b[0mi\u001b[0m\u001b[1;33m=\u001b[0m\u001b[1;36m100\u001b[0m\u001b[1;33m\u001b[0m\u001b[1;33m\u001b[0m\u001b[0m\n\u001b[0;32m      3\u001b[0m \u001b[1;32mdef\u001b[0m \u001b[0mf3\u001b[0m\u001b[1;33m(\u001b[0m\u001b[1;33m)\u001b[0m\u001b[1;33m:\u001b[0m\u001b[1;33m\u001b[0m\u001b[1;33m\u001b[0m\u001b[0m\n\u001b[1;32m----> 4\u001b[1;33m     \u001b[0mi\u001b[0m\u001b[1;33m+=\u001b[0m\u001b[1;36m1\u001b[0m \u001b[1;31m#在函数体内调用全局变量进行赋值且未使用global，会报错，解释不存在\u001b[0m\u001b[1;33m\u001b[0m\u001b[1;33m\u001b[0m\u001b[0m\n\u001b[0m\u001b[0;32m      5\u001b[0m \u001b[1;32mdef\u001b[0m \u001b[0mf4\u001b[0m\u001b[1;33m(\u001b[0m\u001b[1;33m)\u001b[0m\u001b[1;33m:\u001b[0m\u001b[1;33m\u001b[0m\u001b[1;33m\u001b[0m\u001b[0m\n\u001b[0;32m      6\u001b[0m     \u001b[1;32mglobal\u001b[0m \u001b[0mi\u001b[0m\u001b[1;33m\u001b[0m\u001b[1;33m\u001b[0m\u001b[0m\n",
      "\u001b[1;31mUnboundLocalError\u001b[0m: local variable 'i' referenced before assignment"
     ]
    }
   ],
   "source": [
    "# 全局语句 global的使用 使得可以在函数体内对全局变量进行赋值\n",
    "i=100\n",
    "def f3():\n",
    "    i+=1 #在函数体内调用全局变量进行赋值且未使用global，会报错，解释不存在\n",
    "def f4():\n",
    "    global i\n",
    "    i+=1 #使用global语句进行全局声明，可以在函数体内对全局变量进行改变\n",
    "f4()\n",
    "print(i)\n",
    "f3()\n",
    "    "
   ]
  },
  {
   "cell_type": "code",
   "execution_count": 9,
   "id": "3a448298",
   "metadata": {},
   "outputs": [
    {
     "data": {
      "text/plain": [
       "202"
      ]
     },
     "execution_count": 9,
     "metadata": {},
     "output_type": "execute_result"
    }
   ],
   "source": [
    "# 例题 eval()函数的使用  将字符串表达式进行执行，返回一个值\n",
    "e='10*20+2'#字符串表达式\n",
    "eval(e)"
   ]
  },
  {
   "cell_type": "code",
   "execution_count": 14,
   "id": "0301e94a",
   "metadata": {},
   "outputs": [
    {
     "name": "stdout",
     "output_type": "stream",
     "text": [
      "202\n",
      "a=10*20+2;print(a)\n"
     ]
    }
   ],
   "source": [
    "# 例题 exec()函数的使用  将字符串表达式进行执行，不返回值,需要手动加print\n",
    "e='a=10*20+2;print(a)'#字符串表达式\n",
    "e1='print(e)'\n",
    "exec(e)\n",
    "exec(e1)"
   ]
  },
  {
   "cell_type": "code",
   "execution_count": 21,
   "id": "c6aec5ee",
   "metadata": {},
   "outputs": [
    {
     "data": {
      "text/plain": [
       "202"
      ]
     },
     "execution_count": 21,
     "metadata": {},
     "output_type": "execute_result"
    }
   ],
   "source": [
    "#使用complie（）函数\n",
    "e='10*20+2'#字符串表达式\n",
    "e1='print(e)'\n",
    "a=compile(e,'','eval')\n",
    "eval(a)"
   ]
  },
  {
   "cell_type": "code",
   "execution_count": 22,
   "id": "68bb2f76",
   "metadata": {},
   "outputs": [
    {
     "name": "stdout",
     "output_type": "stream",
     "text": [
      "[101, 111, 121, 131, 141, 151, 161, 171, 181, 191, 202, 212, 222, 232, 242, 252, 262, 272, 282, 292, 303, 313, 323, 333, 343, 353, 363, 373, 383, 393, 404, 414, 424, 434, 444, 454, 464, 474, 484, 494, 505, 515, 525, 535, 545, 555, 565, 575, 585, 595, 606, 616, 626, 636, 646, 656, 666, 676, 686, 696, 707, 717, 727, 737, 747, 757, 767, 777, 787, 797, 808, 818, 828, 838, 848, 858, 868, 878, 888, 898, 909, 919, 929, 939, 949, 959, 969, 979, 989, 999]\n"
     ]
    }
   ],
   "source": [
    "# 例8.37  使用filter函数返回三位数中aba形式的数字\n",
    "def f5(x): #定义筛选用的函数\n",
    "    if str(x)==str(x)[::-1]:\n",
    "        return x\n",
    "a=range(100,1000) #定义可迭代对象\n",
    "b=list(filter(f5,a)) #使用filter函数，返回可迭代对象，则需要放入序列中\n",
    "print(b) #打印结果\n"
   ]
  },
  {
   "cell_type": "code",
   "execution_count": 23,
   "id": "63f03e6e",
   "metadata": {},
   "outputs": [
    {
     "data": {
      "text/plain": [
       "22"
      ]
     },
     "execution_count": 23,
     "metadata": {},
     "output_type": "execute_result"
    }
   ],
   "source": [
    "#例 8.38 lambda函数的使用\n",
    "f6=lambda x,y:x+y\n",
    "f6(10,12)"
   ]
  },
  {
   "cell_type": "code",
   "execution_count": 2,
   "id": "6eb09aeb",
   "metadata": {},
   "outputs": [
    {
     "name": "stdout",
     "output_type": "stream",
     "text": [
      "<class 'function'>\n",
      "<class 'function'>\n"
     ]
    }
   ],
   "source": [
    "# 错题 空函数的类型仍旧是函数\n",
    "def f8():\n",
    "    pass\n",
    "print(type(f5))\n",
    "\n",
    "f6=lambda:None\n",
    "print(type(f6))\n"
   ]
  },
  {
   "cell_type": "code",
   "execution_count": 14,
   "id": "7c0a017b",
   "metadata": {},
   "outputs": [],
   "source": [
    "# 错题 *元组可变参数后由于均为强制命名参数，因此可选和必选的顺序可以改变\n",
    "def f6(*,a,b=2,c):\n",
    "    pass\n"
   ]
  },
  {
   "cell_type": "code",
   "execution_count": 12,
   "id": "f11bbf6f",
   "metadata": {},
   "outputs": [
    {
     "name": "stdout",
     "output_type": "stream",
     "text": [
      "False\n",
      "[1]\n",
      "[1, 2]\n"
     ]
    }
   ],
   "source": [
    "# 错题 和传参复制的是引用不矛盾，这是因为调用函数时改变了a的引用，所以并没有改变原来a的值，那么print(a)也就是还是原来的值\n",
    "a=[1,2]\n",
    "id1=id(a)\n",
    "def func(a):\n",
    "    a=a[0:1] #悄悄改变了引用\n",
    "    print(id(a)==id1)#id值不一致了\n",
    "    return a #返回的不是原来的全局变量a\n",
    "print(func(a))\n",
    "print(a)"
   ]
  },
  {
   "cell_type": "code",
   "execution_count": 7,
   "id": "4394575d",
   "metadata": {},
   "outputs": [],
   "source": [
    "#其实*a可以放在最前\n",
    "def f(*a,b=1):\n",
    "    pass"
   ]
  },
  {
   "cell_type": "code",
   "execution_count": null,
   "id": "97a8e000",
   "metadata": {},
   "outputs": [],
   "source": []
  }
 ],
 "metadata": {
  "kernelspec": {
   "display_name": "Python 3",
   "language": "python",
   "name": "python3"
  },
  "language_info": {
   "codemirror_mode": {
    "name": "ipython",
    "version": 3
   },
   "file_extension": ".py",
   "mimetype": "text/x-python",
   "name": "python",
   "nbconvert_exporter": "python",
   "pygments_lexer": "ipython3",
   "version": "3.7.6"
  }
 },
 "nbformat": 4,
 "nbformat_minor": 5
}
