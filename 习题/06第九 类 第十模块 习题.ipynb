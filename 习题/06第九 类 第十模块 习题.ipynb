{
 "cells": [
  {
   "cell_type": "markdown",
   "id": "3a50b843",
   "metadata": {},
   "source": [
    "# 第九章 类"
   ]
  },
  {
   "cell_type": "code",
   "execution_count": 1,
   "id": "231de926",
   "metadata": {},
   "outputs": [
    {
     "name": "stdout",
     "output_type": "stream",
     "text": [
      "jj\n",
      "dd\n"
     ]
    },
    {
     "ename": "AttributeError",
     "evalue": "type object 'A' has no attribute '__name'",
     "output_type": "error",
     "traceback": [
      "\u001b[1;31m---------------------------------------------------------------------------\u001b[0m",
      "\u001b[1;31mAttributeError\u001b[0m                            Traceback (most recent call last)",
      "\u001b[1;32m<ipython-input-1-4854695ec08b>\u001b[0m in \u001b[0;36m<module>\u001b[1;34m\u001b[0m\n\u001b[0;32m      7\u001b[0m \u001b[0mprint\u001b[0m\u001b[1;33m(\u001b[0m\u001b[0mA\u001b[0m\u001b[1;33m.\u001b[0m\u001b[0mname1\u001b[0m\u001b[1;33m)\u001b[0m \u001b[1;31m#可以在外部直接调用类成员\u001b[0m\u001b[1;33m\u001b[0m\u001b[1;33m\u001b[0m\u001b[0m\n\u001b[0;32m      8\u001b[0m \u001b[0mA\u001b[0m\u001b[1;33m.\u001b[0m\u001b[0mgetname\u001b[0m\u001b[1;33m(\u001b[0m\u001b[1;33m)\u001b[0m\u001b[1;31m#可以通过方法对私有属性进行访问\u001b[0m\u001b[1;33m\u001b[0m\u001b[1;33m\u001b[0m\u001b[0m\n\u001b[1;32m----> 9\u001b[1;33m \u001b[0mprint\u001b[0m\u001b[1;33m(\u001b[0m\u001b[0mA\u001b[0m\u001b[1;33m.\u001b[0m\u001b[0m__name\u001b[0m\u001b[1;33m)\u001b[0m\u001b[1;31m#但不能直接访问私有属性\u001b[0m\u001b[1;33m\u001b[0m\u001b[1;33m\u001b[0m\u001b[0m\n\u001b[0m",
      "\u001b[1;31mAttributeError\u001b[0m: type object 'A' has no attribute '__name'"
     ]
    }
   ],
   "source": [
    "# 例9.5 python不限制对于类成员的访问，因此需要设置私有属性，私有属性不能直接访问，但可以通过方法进行访问\n",
    "class A():\n",
    "    name1='jj'\n",
    "    __name='dd'\n",
    "    def getname():\n",
    "        print(A.__name)\n",
    "print(A.name1) #可以在外部直接调用类成员\n",
    "A.getname()#可以通过方法对私有属性进行访问\n",
    "print(A.__name)#但不能直接访问私有属性"
   ]
  },
  {
   "cell_type": "code",
   "execution_count": 1,
   "id": "132f95ad",
   "metadata": {},
   "outputs": [
    {
     "name": "stdout",
     "output_type": "stream",
     "text": [
      "bob\n",
      "joy\n"
     ]
    },
    {
     "ename": "AttributeError",
     "evalue": "'B' object has no attribute '__name'",
     "output_type": "error",
     "traceback": [
      "\u001b[1;31m---------------------------------------------------------------------------\u001b[0m",
      "\u001b[1;31mAttributeError\u001b[0m                            Traceback (most recent call last)",
      "\u001b[1;32m<ipython-input-1-f72a9c17086e>\u001b[0m in \u001b[0;36m<module>\u001b[1;34m\u001b[0m\n\u001b[0;32m     13\u001b[0m \u001b[0mb\u001b[0m\u001b[1;33m.\u001b[0m\u001b[0mname\u001b[0m\u001b[1;33m=\u001b[0m\u001b[1;34m'joy'\u001b[0m \u001b[1;31m#由于setter 可以直接对私有属性赋值\u001b[0m\u001b[1;33m\u001b[0m\u001b[1;33m\u001b[0m\u001b[0m\n\u001b[0;32m     14\u001b[0m \u001b[0mprint\u001b[0m\u001b[1;33m(\u001b[0m\u001b[0mb\u001b[0m\u001b[1;33m.\u001b[0m\u001b[0mname\u001b[0m\u001b[1;33m)\u001b[0m\u001b[1;33m\u001b[0m\u001b[1;33m\u001b[0m\u001b[0m\n\u001b[1;32m---> 15\u001b[1;33m \u001b[0mprint\u001b[0m\u001b[1;33m(\u001b[0m\u001b[0mb\u001b[0m\u001b[1;33m.\u001b[0m\u001b[0m__name\u001b[0m\u001b[1;33m)\u001b[0m\u001b[1;31m#不能直接访问私有属性\u001b[0m\u001b[1;33m\u001b[0m\u001b[1;33m\u001b[0m\u001b[0m\n\u001b[0m",
      "\u001b[1;31mAttributeError\u001b[0m: 'B' object has no attribute '__name'"
     ]
    }
   ],
   "source": [
    "# 例9.6 @property 将函数当作属性来访问，从而实现对私有属性的访问\n",
    "class B():\n",
    "    def __init__(self,name):\n",
    "        self.__name=name\n",
    "    @property    #使用装饰器\n",
    "    def name(self):\n",
    "        return self.__name\n",
    "    @name.setter #使用setter 可以对私有属性进行修改\n",
    "    def name(self,value):\n",
    "        self.__name=value\n",
    "b=B('bob')\n",
    "print(b.name)#可以忽略__下划线 把私有属性当作公有属性来访问\n",
    "b.name='joy' #由于setter 可以直接对私有属性赋值\n",
    "print(b.name) \n",
    "print(b.__name)#不能直接访问私有属性"
   ]
  },
  {
   "cell_type": "code",
   "execution_count": 2,
   "id": "5767942e",
   "metadata": {},
   "outputs": [
    {
     "name": "stdout",
     "output_type": "stream",
     "text": [
      "123\n"
     ]
    },
    {
     "data": {
      "text/plain": [
       "'你猜'"
      ]
     },
     "execution_count": 2,
     "metadata": {},
     "output_type": "execute_result"
    }
   ],
   "source": [
    "#9.9 赋予对象自定义属性以及__getattr__\n",
    "class C:\n",
    "    def __init__(self):\n",
    "        pass\n",
    "    def __getattr__(self,name): #__getattr__(self,name)定义访问不存在对象时的行为\n",
    "        return '你猜'\n",
    "C.name='123'\n",
    "print(C.name)\n",
    "# 通过__getattr__(self,name) 在访问不存在的属性name时，进行自定义行为\n",
    "#但__getattr__只在实例对象上使用，不能在类对象上使用\n",
    "c=C() #实例化\n",
    "c.place  #引发getattr"
   ]
  },
  {
   "cell_type": "code",
   "execution_count": 37,
   "id": "934ba14c",
   "metadata": {},
   "outputs": [
    {
     "data": {
      "text/plain": [
       "0"
      ]
     },
     "execution_count": 37,
     "metadata": {},
     "output_type": "execute_result"
    }
   ],
   "source": [
    "# 例9.29 可迭代对象的迭代\n",
    "t=range(20)\n",
    "i=iter(t)\n",
    "next(i)#返回迭代对象中的第一个数"
   ]
  },
  {
   "cell_type": "code",
   "execution_count": 6,
   "id": "943642b7",
   "metadata": {},
   "outputs": [
    {
     "name": "stdout",
     "output_type": "stream",
     "text": [
      "1\n",
      "1\n",
      "2\n",
      "3\n",
      "5\n",
      "8\n",
      "13\n"
     ]
    }
   ],
   "source": [
    "# 9.30 自定义斐波那契数列的迭代对象\n",
    "class Fib:\n",
    "    def __init__(self):\n",
    "        self.a=0\n",
    "        self.b=1\n",
    "    def __next__(self):\n",
    "        self.a,self.b=self.b,self.a+self.b\n",
    "        return self.a\n",
    "    def __iter__(self):\n",
    "        return self    \n",
    "f1=Fib()\n",
    "for i in f1:\n",
    "    print(i)\n",
    "    if i > 10:break"
   ]
  },
  {
   "cell_type": "code",
   "execution_count": 3,
   "id": "2fd89519",
   "metadata": {},
   "outputs": [
    {
     "name": "stdout",
     "output_type": "stream",
     "text": [
      "100\n",
      "88\n"
     ]
    }
   ],
   "source": [
    "# 习题 当实例属性与类属性同名时，优先实例属性\n",
    "class S:\n",
    "    id=88\n",
    "    def __init__(self,id):\n",
    "        self.id=id\n",
    "a=S(100)\n",
    "print(a.id) #优先调用实例属性id=100\n",
    "print(S.id)"
   ]
  },
  {
   "cell_type": "code",
   "execution_count": 1,
   "id": "88422ce6",
   "metadata": {},
   "outputs": [
    {
     "name": "stdout",
     "output_type": "stream",
     "text": [
      "20\n",
      "[10]\n"
     ]
    }
   ],
   "source": [
    "# 继承特例1 \n",
    "class A:\n",
    "    t=[10,20,30]# 类变量\n",
    "    def __init__(self):\n",
    "        self.t=self.t.pop() #每次初始化都会自动弹出最后一个元素最为t\n",
    "    def func(self):\n",
    "        return self.run()\n",
    "    def run(self):\n",
    "        return self.t  #返回t\n",
    "class B(A):  #其实有无B都一样，因为t是A的类变量\n",
    "    pass\n",
    "class C(B):\n",
    "    pass\n",
    "\n",
    "b=B()  #第一次初始化，弹出最后一个\n",
    "c=C()  #第二次初始化，弹出倒数第二个\n",
    "       # 还能再实例化一次，也就是第三次初始化，弹出列表中最后一个\n",
    "print(c.func())\n",
    "print(A.t)#还剩下的元素"
   ]
  },
  {
   "cell_type": "code",
   "execution_count": 4,
   "id": "de739320",
   "metadata": {},
   "outputs": [
    {
     "name": "stdout",
     "output_type": "stream",
     "text": [
      "1 200\n",
      "1 2\n"
     ]
    }
   ],
   "source": [
    "# 继承特例2 当继承有冲突时，优先选择第一个。\n",
    "class A:\n",
    "    x,y=1,2 \n",
    "class B:\n",
    "    x,y=100,200  \n",
    "    def __init__(self): # 实例属性优先于类属性\n",
    "        self.y=B.y      # 则B的子类的实例的y值为200\n",
    "class C(A,B): # 无特殊情况的话按顺序优先继承A ，x=1\n",
    "    pass\n",
    "\n",
    "c=C()\n",
    "print(c.x,c.y)\n",
    "print(C.x,C.y) #当继承的属性有冲突时，优先选择第一个，则C的类属性继承A"
   ]
  },
  {
   "cell_type": "code",
   "execution_count": 10,
   "id": "157e84d8",
   "metadata": {},
   "outputs": [
    {
     "name": "stdout",
     "output_type": "stream",
     "text": [
      "f\n",
      "m\n"
     ]
    },
    {
     "ename": "NameError",
     "evalue": "name 'gender' is not defined",
     "output_type": "error",
     "traceback": [
      "\u001b[1;31m---------------------------------------------------------------------------\u001b[0m",
      "\u001b[1;31mNameError\u001b[0m                                 Traceback (most recent call last)",
      "\u001b[1;32m<ipython-input-10-78fc5e90d14c>\u001b[0m in \u001b[0;36m<module>\u001b[1;34m\u001b[0m\n\u001b[0;32m     18\u001b[0m \u001b[0mprint\u001b[0m\u001b[1;33m(\u001b[0m\u001b[0mp\u001b[0m\u001b[1;33m.\u001b[0m\u001b[0mgender\u001b[0m\u001b[1;33m)\u001b[0m\u001b[1;33m\u001b[0m\u001b[1;33m\u001b[0m\u001b[0m\n\u001b[0;32m     19\u001b[0m \u001b[1;32mdel\u001b[0m \u001b[0mp\u001b[0m\u001b[1;33m.\u001b[0m\u001b[0mgender\u001b[0m\u001b[1;33m\u001b[0m\u001b[1;33m\u001b[0m\u001b[0m\n\u001b[1;32m---> 20\u001b[1;33m \u001b[0mprint\u001b[0m\u001b[1;33m(\u001b[0m\u001b[0mp\u001b[0m\u001b[1;33m,\u001b[0m\u001b[0mgender\u001b[0m\u001b[1;33m)\u001b[0m\u001b[1;33m\u001b[0m\u001b[1;33m\u001b[0m\u001b[0m\n\u001b[0m",
      "\u001b[1;31mNameError\u001b[0m: name 'gender' is not defined"
     ]
    }
   ],
   "source": [
    "# 错题 @property的用法\n",
    "class Person:\n",
    "    def __init__(self,gender):\n",
    "        self.__gender=gender\n",
    "    @property\n",
    "    def gender(self):\n",
    "        return self.__gender\n",
    "    @gender.setter\n",
    "    def gender(self,value):\n",
    "        self.__gender=value\n",
    "    @gender.deleter\n",
    "    def gender(self):\n",
    "        del self.__gender #事实证明 测试题目是错的，这个地方删除的只能是__gender 而不应该是__name\n",
    "        \n",
    "p=Person('f')\n",
    "print(p.gender)\n",
    "p.gender='m'\n",
    "print(p.gender)\n",
    "del p.gender\n",
    "print(p,gender)"
   ]
  },
  {
   "cell_type": "code",
   "execution_count": 4,
   "id": "efde5003",
   "metadata": {},
   "outputs": [],
   "source": [
    "# 典例 \n",
    "#t1是通过调用 A 类的构造函数 5 次来创建 5 个不同的 A 类实例，因此五个实例的引用是不同的\n",
    "#t2则是 A 类的一个实例乘以 10 创建的。这实际上是将一个 A 类的实例重复了 10 次，并将这些实例放入列表中，10个元素的引用相同\n",
    "class A ():\n",
    "    x='a'\n",
    "t1=[A() for _ in range(5) ]\n",
    "t2=[A()]*10"
   ]
  },
  {
   "cell_type": "markdown",
   "id": "d7b46b45",
   "metadata": {},
   "source": [
    "# 第十章  包"
   ]
  },
  {
   "cell_type": "code",
   "execution_count": 3,
   "id": "d1c19763",
   "metadata": {},
   "outputs": [
    {
     "name": "stdout",
     "output_type": "stream",
     "text": [
      "['E:\\\\Jupyternotebook', 'D:\\\\software\\\\Anaconda\\\\python37.zip', 'D:\\\\software\\\\Anaconda\\\\DLLs', 'D:\\\\software\\\\Anaconda\\\\lib', 'D:\\\\software\\\\Anaconda', '', 'C:\\\\Users\\\\ASUS\\\\AppData\\\\Roaming\\\\Python\\\\Python37\\\\site-packages', 'D:\\\\software\\\\Anaconda\\\\lib\\\\site-packages', 'D:\\\\software\\\\Anaconda\\\\lib\\\\site-packages\\\\win32', 'D:\\\\software\\\\Anaconda\\\\lib\\\\site-packages\\\\win32\\\\lib', 'D:\\\\software\\\\Anaconda\\\\lib\\\\site-packages\\\\Pythonwin', 'D:\\\\software\\\\Anaconda\\\\lib\\\\site-packages\\\\IPython\\\\extensions', 'C:\\\\Users\\\\ASUS\\\\.ipython', 'C:\\\\']\n",
      "['E:\\\\Jupyternotebook', 'D:\\\\software\\\\Anaconda\\\\python37.zip', 'D:\\\\software\\\\Anaconda\\\\DLLs', 'D:\\\\software\\\\Anaconda\\\\lib', 'D:\\\\software\\\\Anaconda', '', 'C:\\\\Users\\\\ASUS\\\\AppData\\\\Roaming\\\\Python\\\\Python37\\\\site-packages', 'D:\\\\software\\\\Anaconda\\\\lib\\\\site-packages', 'D:\\\\software\\\\Anaconda\\\\lib\\\\site-packages\\\\win32', 'D:\\\\software\\\\Anaconda\\\\lib\\\\site-packages\\\\win32\\\\lib', 'D:\\\\software\\\\Anaconda\\\\lib\\\\site-packages\\\\Pythonwin', 'D:\\\\software\\\\Anaconda\\\\lib\\\\site-packages\\\\IPython\\\\extensions', 'C:\\\\Users\\\\ASUS\\\\.ipython', 'C:\\\\', 'C:\\\\']\n"
     ]
    }
   ],
   "source": [
    "# 例10.17 查看模块搜索路径,并进行修改\n",
    "import sys\n",
    "print(sys.path)\n",
    "sys.path.append('C:\\\\')\n",
    "print(sys.path) #增加路径后的搜索路径"
   ]
  },
  {
   "cell_type": "code",
   "execution_count": 8,
   "id": "2f528ab6",
   "metadata": {},
   "outputs": [
    {
     "data": {
      "text/plain": [
       "['Fib',\n",
       " 'In',\n",
       " 'Out',\n",
       " '_',\n",
       " '_1',\n",
       " '_4',\n",
       " '_7',\n",
       " '__',\n",
       " '___',\n",
       " '__builtin__',\n",
       " '__builtins__',\n",
       " '__doc__',\n",
       " '__loader__',\n",
       " '__name__',\n",
       " '__package__',\n",
       " '__spec__',\n",
       " '_dh',\n",
       " '_i',\n",
       " '_i1',\n",
       " '_i2',\n",
       " '_i3',\n",
       " '_i4',\n",
       " '_i5',\n",
       " '_i6',\n",
       " '_i7',\n",
       " '_i8',\n",
       " '_ih',\n",
       " '_ii',\n",
       " '_iii',\n",
       " '_oh',\n",
       " 'exit',\n",
       " 'f1',\n",
       " 'get_ipython',\n",
       " 'i',\n",
       " 'quit',\n",
       " 'sys']"
      ]
     },
     "execution_count": 8,
     "metadata": {},
     "output_type": "execute_result"
    }
   ],
   "source": [
    "# 例10.19 列举当前模块的所有成员\n",
    "dir()"
   ]
  },
  {
   "cell_type": "code",
   "execution_count": null,
   "id": "c71b7182",
   "metadata": {},
   "outputs": [],
   "source": []
  }
 ],
 "metadata": {
  "kernelspec": {
   "display_name": "Python 3",
   "language": "python",
   "name": "python3"
  },
  "language_info": {
   "codemirror_mode": {
    "name": "ipython",
    "version": 3
   },
   "file_extension": ".py",
   "mimetype": "text/x-python",
   "name": "python",
   "nbconvert_exporter": "python",
   "pygments_lexer": "ipython3",
   "version": "3.7.6"
  }
 },
 "nbformat": 4,
 "nbformat_minor": 5
}
