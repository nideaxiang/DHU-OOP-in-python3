{
 "cells": [
  {
   "cell_type": "markdown",
   "id": "beb79844",
   "metadata": {},
   "source": [
    "# 第三章 流程控制"
   ]
  },
  {
   "cell_type": "code",
   "execution_count": 28,
   "id": "426569eb",
   "metadata": {},
   "outputs": [
    {
     "name": "stdout",
     "output_type": "stream",
     "text": [
      "1\n"
     ]
    }
   ],
   "source": [
    "#3.3 二分支语句的运算实现\n",
    "x=0\n",
    "y=1 if(x==0) else 2\n",
    "print(y)"
   ]
  },
  {
   "cell_type": "code",
   "execution_count": 29,
   "id": "5d22fbee",
   "metadata": {},
   "outputs": [
    {
     "name": "stdout",
     "output_type": "stream",
     "text": [
      "1 2\n"
     ]
    }
   ],
   "source": [
    "#3.6 将a、b重新赋值保证升序排序\n",
    "a=2\n",
    "b=1\n",
    "if a>b:\n",
    "    t=a\n",
    "    a=b\n",
    "    b=t\n",
    "print(a,b)\n"
   ]
  },
  {
   "cell_type": "code",
   "execution_count": 30,
   "id": "64f3fc5a",
   "metadata": {},
   "outputs": [
    {
     "name": "stdout",
     "output_type": "stream",
     "text": [
      "3 2 1"
     ]
    }
   ],
   "source": [
    "#3.7 a b c 三个数从大到小排序\n",
    "a=1\n",
    "b=2\n",
    "c=3\n",
    "if a<b:\n",
    "    t=a\n",
    "    a=b\n",
    "    b=t\n",
    "if a<c:\n",
    "    t=a\n",
    "    a=c\n",
    "    c=t\n",
    "if b<c:\n",
    "    t=b\n",
    "    b=c\n",
    "    c=t\n",
    "print(a,b,c,end='')"
   ]
  },
  {
   "cell_type": "code",
   "execution_count": 1,
   "id": "a37bd483",
   "metadata": {},
   "outputs": [
    {
     "name": "stdout",
     "output_type": "stream",
     "text": [
      "0\n"
     ]
    }
   ],
   "source": [
    "# range等具有迭代能力的可迭代对象，在进行反向迭代时需要手动设置 -1的步长\n",
    "total=0\n",
    "for i in range(10,0): #若反向的遍历不定义好步长为-1那么，迭代就会停止于一开始\n",
    "    total+=1\n",
    "print(total)"
   ]
  },
  {
   "cell_type": "markdown",
   "id": "cb320295",
   "metadata": {},
   "source": [
    "# 第四章常用的内置数据类型"
   ]
  },
  {
   "cell_type": "code",
   "execution_count": 22,
   "id": "4aeaf6e8",
   "metadata": {},
   "outputs": [
    {
     "name": "stdout",
     "output_type": "stream",
     "text": [
      "1\n",
      "0\n"
     ]
    }
   ],
   "source": [
    "#4.12 短路计算\n",
    "a=1 or 0 #or为前短路，则前真返回前\n",
    "print(a)\n",
    "\n",
    "b=1 and 0#and 为后短路，前假则返回前\n",
    "print(b)"
   ]
  },
  {
   "cell_type": "code",
   "execution_count": 23,
   "id": "92c6f644",
   "metadata": {},
   "outputs": [
    {
     "name": "stdout",
     "output_type": "stream",
     "text": [
      "65\n"
     ]
    }
   ],
   "source": [
    "#4.13 字符串和Unicode码转化\n",
    "print(ord('A'))"
   ]
  },
  {
   "cell_type": "code",
   "execution_count": 2,
   "id": "e9a3e5f4",
   "metadata": {},
   "outputs": [
    {
     "name": "stdout",
     "output_type": "stream",
     "text": [
      "False\n",
      "True\n",
      "True\n"
     ]
    }
   ],
   "source": [
    "#4.14 易错的True情况\n",
    "print(bool(0)) #直接转化0 空值\n",
    "print((bool([0]))) #列表不为空\n",
    "print((bool([[]]))) #列表内的元素为空，但列表不为空"
   ]
  },
  {
   "cell_type": "code",
   "execution_count": 26,
   "id": "284eedaa",
   "metadata": {},
   "outputs": [
    {
     "data": {
      "text/plain": [
       "True"
      ]
     },
     "execution_count": 26,
     "metadata": {},
     "output_type": "execute_result"
    }
   ],
   "source": [
    "#4.15对于字符串的关系运算符比较 按照其ASCII码来进行\n",
    "'abc'>'ABC'"
   ]
  },
  {
   "cell_type": "code",
   "execution_count": 4,
   "id": "6e375a7a",
   "metadata": {},
   "outputs": [
    {
     "name": "stdout",
     "output_type": "stream",
     "text": [
      "19683\n",
      "19683\n"
     ]
    }
   ],
   "source": [
    "#易错习题 乘方的优先级\n",
    "print(3**3**2)\n",
    "print(3**9)\n"
   ]
  },
  {
   "cell_type": "code",
   "execution_count": 43,
   "id": "1890ae67",
   "metadata": {},
   "outputs": [
    {
     "data": {
      "text/plain": [
       "20.0"
      ]
     },
     "execution_count": 43,
     "metadata": {},
     "output_type": "execute_result"
    }
   ],
   "source": [
    "#易错习题 round（）负数,-1则是保留到十位 0是个位 \n",
    "round(18.67,-1)"
   ]
  },
  {
   "cell_type": "code",
   "execution_count": 47,
   "id": "c4063b11",
   "metadata": {},
   "outputs": [
    {
     "name": "stdout",
     "output_type": "stream",
     "text": [
      "1\n"
     ]
    }
   ],
   "source": [
    "#易错 逻辑运算符优先级 非与或\n",
    "print(1 or 0 and 1)"
   ]
  },
  {
   "cell_type": "code",
   "execution_count": 51,
   "id": "00aaa6dc",
   "metadata": {},
   "outputs": [
    {
     "name": "stdout",
     "output_type": "stream",
     "text": [
      "False\n"
     ]
    }
   ],
   "source": [
    "#易错 由于and 的短路性，0>=1为False就直接输出False 不考虑and后的条件\n",
    "print(0>=1 and 'A'<'B')"
   ]
  },
  {
   "cell_type": "code",
   "execution_count": 1,
   "id": "d38e9acc",
   "metadata": {},
   "outputs": [
    {
     "name": "stdout",
     "output_type": "stream",
     "text": [
      "50 5\n",
      "0x10 0b1010\n"
     ]
    }
   ],
   "source": [
    "# 易错 进制转化\n",
    "print(int('32',16),int('101',2)) #使用int将其他进制转化为10进制\n",
    "print(hex(16),bin(10)) # 使用hex()和bin()将十进制转化为16进制和10进制\n"
   ]
  },
  {
   "cell_type": "code",
   "execution_count": 6,
   "id": "53b94178",
   "metadata": {},
   "outputs": [
    {
     "name": "stdout",
     "output_type": "stream",
     "text": [
      "(-5+12j)\n"
     ]
    }
   ],
   "source": [
    "# 易错 复数的共轭复数和乘积计算\n",
    "print((2-3j).conjugate()*complex(2,3))"
   ]
  },
  {
   "cell_type": "code",
   "execution_count": 17,
   "id": "6f07a632",
   "metadata": {},
   "outputs": [
    {
     "name": "stdout",
     "output_type": "stream",
     "text": [
      "15 11\n"
     ]
    }
   ],
   "source": [
    "#编码 encode 默认使用utf-8编码 一个中文三个字节 数字和字母都只占一个 \n",
    "s='东华大学123'.encode() # 4*3+3=15\n",
    "a='东华大学123'.encode(encoding='gb2312') #指定gb2312 那么一个中文两个字节 4*2+3=11\n",
    "print(len(s),len(a))"
   ]
  },
  {
   "cell_type": "code",
   "execution_count": 8,
   "id": "b3204f9d",
   "metadata": {},
   "outputs": [
    {
     "name": "stdout",
     "output_type": "stream",
     "text": [
      "\n"
     ]
    }
   ],
   "source": [
    "# 试题 切片从小到大切才有效，从大到小且不规定负步数，那么切出来就为空\n",
    "s='123456878'\n",
    "print(s[-1:-3])"
   ]
  },
  {
   "cell_type": "code",
   "execution_count": 15,
   "id": "7e618fdb",
   "metadata": {},
   "outputs": [
    {
     "ename": "TypeError",
     "evalue": "'<' not supported between instances of 'str' and 'int'",
     "output_type": "error",
     "traceback": [
      "\u001b[1;31m---------------------------------------------------------------------------\u001b[0m",
      "\u001b[1;31mTypeError\u001b[0m                                 Traceback (most recent call last)",
      "\u001b[1;32m<ipython-input-15-d0e7d024cb01>\u001b[0m in \u001b[0;36m<module>\u001b[1;34m\u001b[0m\n\u001b[0;32m      1\u001b[0m \u001b[1;31m#\u001b[0m\u001b[1;33m\u001b[0m\u001b[1;33m\u001b[0m\u001b[1;33m\u001b[0m\u001b[0m\n\u001b[1;32m----> 2\u001b[1;33m \u001b[0msorted\u001b[0m\u001b[1;33m(\u001b[0m\u001b[1;33m(\u001b[0m\u001b[1;36m1\u001b[0m\u001b[1;33m,\u001b[0m\u001b[1;36m2\u001b[0m\u001b[1;33m,\u001b[0m\u001b[1;34m'a'\u001b[0m\u001b[1;33m,\u001b[0m\u001b[1;36m4\u001b[0m\u001b[1;33m)\u001b[0m\u001b[1;33m)\u001b[0m\u001b[1;33m\u001b[0m\u001b[1;33m\u001b[0m\u001b[0m\n\u001b[0m",
      "\u001b[1;31mTypeError\u001b[0m: '<' not supported between instances of 'str' and 'int'"
     ]
    }
   ],
   "source": [
    "# 试题 sorted函数只支持相同类型的升序排列，返回一个列表\n",
    "sorted((1,2,'a',4))"
   ]
  },
  {
   "cell_type": "code",
   "execution_count": 9,
   "id": "f646703d",
   "metadata": {},
   "outputs": [
    {
     "name": "stdout",
     "output_type": "stream",
     "text": [
      "False\n"
     ]
    }
   ],
   "source": [
    "# 试题 集合的大小比较取决于范围，元素多的比较大\n",
    "a=[1,1,1,2,3,3] \n",
    "b=[4,1,3,3] \n",
    "print(set(a)>=set(b))"
   ]
  },
  {
   "cell_type": "code",
   "execution_count": 22,
   "id": "48501d2f",
   "metadata": {},
   "outputs": [
    {
     "name": "stdout",
     "output_type": "stream",
     "text": [
      "True\n",
      "False\n"
     ]
    }
   ],
   "source": [
    "# 试题 浅复制不会复制引用,而是复制了对象，并非进行了同一对象的绑定\n",
    "a=[1,2,3]\n",
    "b=a[:]#浅复制是对[1,2,3]进行了复制\n",
    "e=a==b #值相同 id不同\n",
    "print(e)\n",
    "print(id(a)==id(b))#两者的对象不一致"
   ]
  },
  {
   "cell_type": "code",
   "execution_count": 24,
   "id": "78d75ace",
   "metadata": {},
   "outputs": [
    {
     "name": "stdout",
     "output_type": "stream",
     "text": [
      "3\n",
      "4\n"
     ]
    }
   ],
   "source": [
    "# 对于列表操作的辨析 extend是接一个列表 append是增加一个元素\n",
    "t=[1,2,3]\n",
    "t.extend([])\n",
    "print(len(t))\n",
    "t.append([])\n",
    "print(len(t))"
   ]
  },
  {
   "cell_type": "code",
   "execution_count": 27,
   "id": "3ea06374",
   "metadata": {},
   "outputs": [
    {
     "name": "stdout",
     "output_type": "stream",
     "text": [
      "bytearray(b'\\x00\\x00\\x00')\n",
      "3\n",
      "False\n"
     ]
    }
   ],
   "source": [
    "# 试题 any()与字节序列\n",
    "ba=bytearray(3) #由于初始化时未指定初始值，因此所有元素都是 0。所以输出结果是 bytearray(b'\\x00\\x00\\x00')，表示三个字节都是 0\n",
    "print(ba)\n",
    "print(len(ba))\n",
    "print(any(ba)) #bytearray 对象中的所有元素都是 0，因此 any() 函数会返回 False"
   ]
  },
  {
   "cell_type": "code",
   "execution_count": 10,
   "id": "e93070c6",
   "metadata": {},
   "outputs": [
    {
     "name": "stdout",
     "output_type": "stream",
     "text": [
      "212\n"
     ]
    },
    {
     "ename": "ValueError",
     "evalue": "负数",
     "output_type": "error",
     "traceback": [
      "\u001b[1;31m---------------------------------------------------------------------------\u001b[0m",
      "\u001b[1;31mValueError\u001b[0m                                Traceback (most recent call last)",
      "\u001b[1;32m<ipython-input-10-c6d4996c9b60>\u001b[0m in \u001b[0;36m<module>\u001b[1;34m\u001b[0m\n\u001b[0;32m      4\u001b[0m \u001b[1;32mtry\u001b[0m\u001b[1;33m:\u001b[0m\u001b[1;33m\u001b[0m\u001b[1;33m\u001b[0m\u001b[0m\n\u001b[0;32m      5\u001b[0m     \u001b[1;32mfor\u001b[0m \u001b[0mi\u001b[0m \u001b[1;32min\u001b[0m \u001b[0ma\u001b[0m\u001b[1;33m:\u001b[0m\u001b[1;33m\u001b[0m\u001b[1;33m\u001b[0m\u001b[0m\n\u001b[1;32m----> 6\u001b[1;33m         \u001b[1;32mif\u001b[0m \u001b[0mi\u001b[0m\u001b[1;33m<\u001b[0m\u001b[1;36m0\u001b[0m\u001b[1;33m:\u001b[0m\u001b[1;32mraise\u001b[0m \u001b[0mValueError\u001b[0m\u001b[1;33m(\u001b[0m\u001b[1;34m'负数'\u001b[0m\u001b[1;33m)\u001b[0m\u001b[1;33m\u001b[0m\u001b[1;33m\u001b[0m\u001b[0m\n\u001b[0m\u001b[0;32m      7\u001b[0m         \u001b[0mt\u001b[0m\u001b[1;33m+=\u001b[0m\u001b[0mi\u001b[0m\u001b[1;33m\u001b[0m\u001b[1;33m\u001b[0m\u001b[0m\n\u001b[0;32m      8\u001b[0m \u001b[1;32mfinally\u001b[0m\u001b[1;33m:\u001b[0m \u001b[1;31m#虚拟机中止了程序，但finally仍旧能够运行\u001b[0m\u001b[1;33m\u001b[0m\u001b[1;33m\u001b[0m\u001b[0m\n",
      "\u001b[1;31mValueError\u001b[0m: 负数"
     ]
    }
   ],
   "source": []
  },
  {
   "cell_type": "code",
   "execution_count": null,
   "id": "c0e37254",
   "metadata": {},
   "outputs": [],
   "source": []
  }
 ],
 "metadata": {
  "kernelspec": {
   "display_name": "Python 3",
   "language": "python",
   "name": "python3"
  },
  "language_info": {
   "codemirror_mode": {
    "name": "ipython",
    "version": 3
   },
   "file_extension": ".py",
   "mimetype": "text/x-python",
   "name": "python",
   "nbconvert_exporter": "python",
   "pygments_lexer": "ipython3",
   "version": "3.7.6"
  }
 },
 "nbformat": 4,
 "nbformat_minor": 5
}
