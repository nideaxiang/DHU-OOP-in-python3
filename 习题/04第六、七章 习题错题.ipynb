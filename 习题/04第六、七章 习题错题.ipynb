{
 "cells": [
  {
   "cell_type": "markdown",
   "id": "657cc22a",
   "metadata": {},
   "source": [
    "# 第六章 输入输出"
   ]
  },
  {
   "cell_type": "code",
   "execution_count": 3,
   "id": "01d64c61",
   "metadata": {},
   "outputs": [
    {
     "ename": "TypeError",
     "evalue": "add_argument() missing 1 required positional argument: 'self'",
     "output_type": "error",
     "traceback": [
      "\u001b[1;31m---------------------------------------------------------------------------\u001b[0m",
      "\u001b[1;31mTypeError\u001b[0m                                 Traceback (most recent call last)",
      "\u001b[1;32m<ipython-input-3-cfa269017500>\u001b[0m in \u001b[0;36m<module>\u001b[1;34m\u001b[0m\n\u001b[0;32m      2\u001b[0m \u001b[1;32mimport\u001b[0m \u001b[0margparse\u001b[0m \u001b[1;31m#导入\u001b[0m\u001b[1;33m\u001b[0m\u001b[1;33m\u001b[0m\u001b[0m\n\u001b[0;32m      3\u001b[0m \u001b[0mparser\u001b[0m\u001b[1;33m=\u001b[0m\u001b[0margparse\u001b[0m\u001b[1;33m.\u001b[0m\u001b[0mArgumentParser\u001b[0m \u001b[1;31m#创建\u001b[0m\u001b[1;33m\u001b[0m\u001b[1;33m\u001b[0m\u001b[0m\n\u001b[1;32m----> 4\u001b[1;33m \u001b[0mparser\u001b[0m\u001b[1;33m.\u001b[0m\u001b[0madd_argument\u001b[0m\u001b[1;33m(\u001b[0m\u001b[1;33m)\u001b[0m \u001b[1;31m#加参数\u001b[0m\u001b[1;33m\u001b[0m\u001b[1;33m\u001b[0m\u001b[0m\n\u001b[0m\u001b[0;32m      5\u001b[0m \u001b[0margs\u001b[0m\u001b[1;33m=\u001b[0m\u001b[0mparser\u001b[0m\u001b[1;33m.\u001b[0m\u001b[0mparse_args\u001b[0m\u001b[1;33m(\u001b[0m\u001b[1;33m)\u001b[0m\u001b[1;31m#解析参数\u001b[0m\u001b[1;33m\u001b[0m\u001b[1;33m\u001b[0m\u001b[0m\n",
      "\u001b[1;31mTypeError\u001b[0m: add_argument() missing 1 required positional argument: 'self'"
     ]
    }
   ],
   "source": [
    "# 使用argparse的流程\n",
    "import argparse #导入\n",
    "parser=argparse.ArgumentParser #创建\n",
    "parser.add_argument() #加参数\n",
    "args=parser.parse_args()#解析参数\n"
   ]
  },
  {
   "cell_type": "code",
   "execution_count": 4,
   "id": "ccf261a2",
   "metadata": {},
   "outputs": [
    {
     "data": {
      "text/plain": [
       "<function TextIOWrapper.close()>"
      ]
     },
     "execution_count": 4,
     "metadata": {},
     "output_type": "execute_result"
    }
   ],
   "source": [
    "# write和writelines的辨析,关于换行，都需要手动加参数\n",
    "with open('test01','w',encoding='utf-8') as f:\n",
    "    f.write('你好\\n')\n",
    "    f.write('我是\\n')\n",
    "    f.writelines(['你好\\n','我是\\n'])\n",
    "f.close\n",
    "\n",
    "    "
   ]
  },
  {
   "cell_type": "code",
   "execution_count": 6,
   "id": "0efc0126",
   "metadata": {},
   "outputs": [
    {
     "name": "stdout",
     "output_type": "stream",
     "text": [
      "<class 'list'>\n",
      "你好\n",
      "\n",
      "我是\n",
      "\n",
      "你好\n",
      "\n",
      "我是\n",
      "\n"
     ]
    }
   ],
   "source": [
    "# readlines的使用\n",
    "with open('test01','r',encoding='utf-8') as f1:\n",
    "    line=f1.readlines()\n",
    "    print(type(line)) #返回类型为列表\n",
    "    for i in line:\n",
    "        print(i)  "
   ]
  },
  {
   "cell_type": "code",
   "execution_count": 5,
   "id": "b0fb69a9",
   "metadata": {},
   "outputs": [
    {
     "name": "stdout",
     "output_type": "stream",
     "text": [
      "b'123456'\n"
     ]
    }
   ],
   "source": [
    "# 二进制文件的读写\n",
    "with open('test02','wb') as f:\n",
    "    f.write(b'123456')\n",
    "with open('test02','rb') as f:\n",
    "    l=f.read()\n",
    "    print(l)"
   ]
  },
  {
   "cell_type": "code",
   "execution_count": 1,
   "id": "4ea4f9ba",
   "metadata": {},
   "outputs": [
    {
     "name": "stdout",
     "output_type": "stream",
     "text": [
      "123\n",
      "你好\n"
     ]
    }
   ],
   "source": [
    "# 系列化 pickle x需要指定mode为b模式\n",
    "import pickle\n",
    "with open('test03','wb') as f:\n",
    "    pickle.dump('123',f)#打包系列化同时写入文件\n",
    "    pickle.dump('你好',f)\n",
    "with open('test03','rb') as f:\n",
    "    a=pickle.load(f)#解包恢复格式\n",
    "    b=pickle.load(f)\n",
    "    print(a)\n",
    "    print(b)"
   ]
  },
  {
   "cell_type": "code",
   "execution_count": 7,
   "id": "f63d6ce7",
   "metadata": {},
   "outputs": [
    {
     "name": "stdout",
     "output_type": "stream",
     "text": [
      "你好\n"
     ]
    }
   ],
   "source": [
    "# json序列化\n",
    "import json\n",
    "with open('test04','w') as f:\n",
    "    json.dump('你好',f)\n",
    "with open('test04','r') as f:\n",
    "    a=json.load(f)\n",
    "    print(a)"
   ]
  },
  {
   "cell_type": "code",
   "execution_count": null,
   "id": "57fcb87b",
   "metadata": {},
   "outputs": [],
   "source": [
    "# 修改输出对象实例\n",
    "import sys\n",
    "f=open('输出对象修改','w'):\n",
    "sys.stdout=f #修改至f\n",
    "print('123456')\n",
    "f.close()\n",
    "sys.stdout = sys._stdout__()\n"
   ]
  },
  {
   "cell_type": "code",
   "execution_count": null,
   "id": "da9cb045",
   "metadata": {},
   "outputs": [],
   "source": [
    "print('123456dad')"
   ]
  },
  {
   "cell_type": "markdown",
   "id": "a21b9996",
   "metadata": {},
   "source": [
    "# 第七章 异常处理"
   ]
  },
  {
   "cell_type": "code",
   "execution_count": 11,
   "id": "d69c7c05",
   "metadata": {},
   "outputs": [
    {
     "ename": "AssertionError",
     "evalue": "重来",
     "output_type": "error",
     "traceback": [
      "\u001b[1;31m---------------------------------------------------------------------------\u001b[0m",
      "\u001b[1;31mAssertionError\u001b[0m                            Traceback (most recent call last)",
      "\u001b[1;32m<ipython-input-11-1d2f32fef3fd>\u001b[0m in \u001b[0;36m<module>\u001b[1;34m\u001b[0m\n\u001b[0;32m      2\u001b[0m \u001b[0ma\u001b[0m\u001b[1;33m=\u001b[0m\u001b[1;36m0\u001b[0m\u001b[1;33m\u001b[0m\u001b[1;33m\u001b[0m\u001b[0m\n\u001b[0;32m      3\u001b[0m \u001b[0mb\u001b[0m\u001b[1;33m=\u001b[0m\u001b[1;36m1\u001b[0m\u001b[1;33m\u001b[0m\u001b[1;33m\u001b[0m\u001b[0m\n\u001b[1;32m----> 4\u001b[1;33m \u001b[1;32massert\u001b[0m \u001b[0ma\u001b[0m\u001b[1;33m!=\u001b[0m\u001b[1;36m0\u001b[0m\u001b[1;33m,\u001b[0m\u001b[1;34m'重来'\u001b[0m \u001b[1;31m#布尔表达式为假则引发断言错误\u001b[0m\u001b[1;33m\u001b[0m\u001b[1;33m\u001b[0m\u001b[0m\n\u001b[0m",
      "\u001b[1;31mAssertionError\u001b[0m: 重来"
     ]
    }
   ],
   "source": [
    "#断言示例 除数不为零 \n",
    "a=0\n",
    "b=1\n",
    "assert a!=0,'重来' #布尔表达式为假则引发断言错误"
   ]
  },
  {
   "cell_type": "code",
   "execution_count": 1,
   "id": "a445715f",
   "metadata": {},
   "outputs": [
    {
     "name": "stdout",
     "output_type": "stream",
     "text": [
      "212\n"
     ]
    },
    {
     "ename": "ValueError",
     "evalue": "负数",
     "output_type": "error",
     "traceback": [
      "\u001b[1;31m---------------------------------------------------------------------------\u001b[0m",
      "\u001b[1;31mValueError\u001b[0m                                Traceback (most recent call last)",
      "\u001b[1;32m<ipython-input-1-78c7c1a744b6>\u001b[0m in \u001b[0;36m<module>\u001b[1;34m\u001b[0m\n\u001b[0;32m      4\u001b[0m \u001b[1;32mtry\u001b[0m\u001b[1;33m:\u001b[0m\u001b[1;33m\u001b[0m\u001b[1;33m\u001b[0m\u001b[0m\n\u001b[0;32m      5\u001b[0m     \u001b[1;32mfor\u001b[0m \u001b[0mi\u001b[0m \u001b[1;32min\u001b[0m \u001b[0ma\u001b[0m\u001b[1;33m:\u001b[0m\u001b[1;33m\u001b[0m\u001b[1;33m\u001b[0m\u001b[0m\n\u001b[1;32m----> 6\u001b[1;33m         \u001b[1;32mif\u001b[0m \u001b[0mi\u001b[0m\u001b[1;33m<\u001b[0m\u001b[1;36m0\u001b[0m\u001b[1;33m:\u001b[0m\u001b[1;32mraise\u001b[0m \u001b[0mValueError\u001b[0m\u001b[1;33m(\u001b[0m\u001b[1;34m'负数'\u001b[0m\u001b[1;33m)\u001b[0m\u001b[1;33m\u001b[0m\u001b[1;33m\u001b[0m\u001b[0m\n\u001b[0m\u001b[0;32m      7\u001b[0m         \u001b[0mt\u001b[0m\u001b[1;33m+=\u001b[0m\u001b[0mi\u001b[0m\u001b[1;33m\u001b[0m\u001b[1;33m\u001b[0m\u001b[0m\n\u001b[0;32m      8\u001b[0m \u001b[1;32mfinally\u001b[0m\u001b[1;33m:\u001b[0m \u001b[1;31m#虚拟机中止了程序，但finally仍旧能够运行\u001b[0m\u001b[1;33m\u001b[0m\u001b[1;33m\u001b[0m\u001b[0m\n",
      "\u001b[1;31mValueError\u001b[0m: 负数"
     ]
    }
   ],
   "source": [
    "#假如没有except则虚拟机中止程序，也运行finally\n",
    "a=(44,78,90,-7,55)\n",
    "t=0\n",
    "try:\n",
    "    for i in a:\n",
    "        if i<0:raise ValueError('负数')\n",
    "        t+=i\n",
    "finally: #虚拟机中止了程序，但finally仍旧能够运行\n",
    "    print(t)"
   ]
  },
  {
   "cell_type": "code",
   "execution_count": 3,
   "id": "f4b2e987",
   "metadata": {},
   "outputs": [
    {
     "ename": "NameError",
     "evalue": "name 'd' is not defined",
     "output_type": "error",
     "traceback": [
      "\u001b[1;31m---------------------------------------------------------------------------\u001b[0m",
      "\u001b[1;31mNameError\u001b[0m                                 Traceback (most recent call last)",
      "\u001b[1;32m<ipython-input-3-514e3a6ee3cf>\u001b[0m in \u001b[0;36m<module>\u001b[1;34m\u001b[0m\n\u001b[0;32m      1\u001b[0m \u001b[1;31m#习题 NameError\u001b[0m\u001b[1;33m\u001b[0m\u001b[1;33m\u001b[0m\u001b[1;33m\u001b[0m\u001b[0m\n\u001b[1;32m----> 2\u001b[1;33m \u001b[0mc\u001b[0m\u001b[1;33m=\u001b[0m\u001b[0md\u001b[0m \u001b[1;31m#未进行命名过的变量\u001b[0m\u001b[1;33m\u001b[0m\u001b[1;33m\u001b[0m\u001b[0m\n\u001b[0m",
      "\u001b[1;31mNameError\u001b[0m: name 'd' is not defined"
     ]
    }
   ],
   "source": [
    "#习题 NameError\n",
    "c=d #未进行命名过的变量"
   ]
  },
  {
   "cell_type": "code",
   "execution_count": null,
   "id": "3df120db",
   "metadata": {},
   "outputs": [],
   "source": []
  }
 ],
 "metadata": {
  "kernelspec": {
   "display_name": "Python 3",
   "language": "python",
   "name": "python3"
  },
  "language_info": {
   "codemirror_mode": {
    "name": "ipython",
    "version": 3
   },
   "file_extension": ".py",
   "mimetype": "text/x-python",
   "name": "python",
   "nbconvert_exporter": "python",
   "pygments_lexer": "ipython3",
   "version": "3.7.6"
  }
 },
 "nbformat": 4,
 "nbformat_minor": 5
}
