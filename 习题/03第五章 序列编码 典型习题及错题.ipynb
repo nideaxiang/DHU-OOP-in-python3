{
 "cells": [
  {
   "cell_type": "code",
   "execution_count": 3,
   "id": "4a7f7bfc",
   "metadata": {},
   "outputs": [
    {
     "name": "stdout",
     "output_type": "stream",
     "text": [
      "b'\\xe4\\xb8\\x9c\\xe5\\x8d\\x8e\\xe5\\xa4\\xa7\\xe5\\xad\\xa6' b'\\xe4\\xb8\\x9c\\xe5\\x8d\\x8e\\xe5\\xa4\\xa7\\xe5\\xad\\xa6'\n"
     ]
    },
    {
     "ename": "TypeError",
     "evalue": "string argument without an encoding",
     "output_type": "error",
     "traceback": [
      "\u001b[1;31m---------------------------------------------------------------------------\u001b[0m",
      "\u001b[1;31mTypeError\u001b[0m                                 Traceback (most recent call last)",
      "\u001b[1;32m<ipython-input-3-1fbb4713dc5c>\u001b[0m in \u001b[0;36m<module>\u001b[1;34m\u001b[0m\n\u001b[0;32m      5\u001b[0m \u001b[0mprint\u001b[0m\u001b[1;33m(\u001b[0m\u001b[0ma\u001b[0m\u001b[1;33m,\u001b[0m\u001b[0mb\u001b[0m\u001b[1;33m)\u001b[0m\u001b[1;33m\u001b[0m\u001b[1;33m\u001b[0m\u001b[0m\n\u001b[0;32m      6\u001b[0m \u001b[0ma1\u001b[0m\u001b[1;33m=\u001b[0m\u001b[0mbytes\u001b[0m\u001b[1;33m(\u001b[0m\u001b[1;34mb'asdfa'\u001b[0m\u001b[1;33m)\u001b[0m\u001b[1;33m\u001b[0m\u001b[1;33m\u001b[0m\u001b[0m\n\u001b[1;32m----> 7\u001b[1;33m \u001b[0ma2\u001b[0m\u001b[1;33m=\u001b[0m\u001b[0mbytes\u001b[0m\u001b[1;33m(\u001b[0m\u001b[1;34m'大大'\u001b[0m\u001b[1;33m)\u001b[0m\u001b[1;33m\u001b[0m\u001b[1;33m\u001b[0m\u001b[0m\n\u001b[0m",
      "\u001b[1;31mTypeError\u001b[0m: string argument without an encoding"
     ]
    }
   ],
   "source": [
    "# 注：字节序列只接受字节参数\n",
    "s='东华大学'\n",
    "a=s.encode() \n",
    "b=bytes(s.encode()) #将字符串转化为字节序列后进行字节序列的实例化对象创建\n",
    "print(a,b)\n",
    "a1=bytes(b'asdfa') \n",
    "a2=bytes('大大') #只接受字节参数"
   ]
  },
  {
   "cell_type": "code",
   "execution_count": 6,
   "id": "4b07979d",
   "metadata": {},
   "outputs": [
    {
     "name": "stdout",
     "output_type": "stream",
     "text": [
      "1 [None] <class 'list'>\n"
     ]
    }
   ],
   "source": [
    "# 例题 None在序列中的情况 None 也会占用长度\n",
    "a=[None]\n",
    "print(len(a),a,type(a))"
   ]
  },
  {
   "cell_type": "code",
   "execution_count": 11,
   "id": "26876510",
   "metadata": {},
   "outputs": [
    {
     "name": "stdout",
     "output_type": "stream",
     "text": [
      "[1, 2, 3] [5, 2, 3] 2013815546632 2013815682952 2013815546632\n"
     ]
    }
   ],
   "source": [
    "# 例题  copy不复制引用 则id不同，直接赋值则是有相同的引用\n",
    "s1=[1,2,3]\n",
    "s2=s1.copy()\n",
    "s3=s1\n",
    "s1[0]=5\n",
    "print(s2,s3,id(s1),id(s2),id(s3))"
   ]
  },
  {
   "cell_type": "code",
   "execution_count": 4,
   "id": "2a5e4840",
   "metadata": {},
   "outputs": [
    {
     "name": "stdout",
     "output_type": "stream",
     "text": [
      "HA!\n"
     ]
    }
   ],
   "source": [
    "# 例题 转义+编码 \\xhh 是16进制的Unicode编码\n",
    "print('\\x48\\x41!') # \\x48代表H \\x41代表A"
   ]
  },
  {
   "cell_type": "code",
   "execution_count": 13,
   "id": "08603646",
   "metadata": {},
   "outputs": [
    {
     "name": "stdout",
     "output_type": "stream",
     "text": [
      "\\nGood\n"
     ]
    }
   ],
   "source": [
    "# 例题 r\"\"或R\"\"字符串可以禁止转义\n",
    "print(r\"\\nGood\")"
   ]
  },
  {
   "cell_type": "code",
   "execution_count": 5,
   "id": "a1c3f611",
   "metadata": {},
   "outputs": [
    {
     "name": "stdout",
     "output_type": "stream",
     "text": [
      "[2, 3]\n",
      "[2, []]\n"
     ]
    }
   ],
   "source": [
    "# 例题切片操作中替换为[]的情况\n",
    "a=list([1,2,3])\n",
    "a[:1]=[] #这相当于将一个范围置空\n",
    "print(a)\n",
    "a[1]=[] #这相当于将一个元素换为空列表\n",
    "print(a)"
   ]
  },
  {
   "cell_type": "code",
   "execution_count": 10,
   "id": "593fb471",
   "metadata": {},
   "outputs": [
    {
     "name": "stdout",
     "output_type": "stream",
     "text": [
      "2\n",
      "(1,)\n"
     ]
    }
   ],
   "source": [
    "#例题 切片中 切出的单个值也具有序列的格式\n",
    "a=(1,2,3)\n",
    "print(a[1]) #索引\n",
    "print(a[0:1]) #只切出0号，但是仍旧具有序列格式"
   ]
  },
  {
   "cell_type": "code",
   "execution_count": 8,
   "id": "0cb5e5ab",
   "metadata": {},
   "outputs": [
    {
     "name": "stdout",
     "output_type": "stream",
     "text": [
      "{'b', 'c', 'a'}\n"
     ]
    }
   ],
   "source": [
    "# 错题 返回字典的键的集合\n",
    "d={'a':12,'b':13,'c':14}\n",
    "print(set(d.keys()))"
   ]
  },
  {
   "cell_type": "code",
   "execution_count": 10,
   "id": "1909a58c",
   "metadata": {},
   "outputs": [
    {
     "name": "stdout",
     "output_type": "stream",
     "text": [
      "{12: 'a', 13: 'b', 14: 'c'}\n"
     ]
    }
   ],
   "source": [
    "# 错题 置换字典的键值\n",
    "d={'a':12,'b':13,'c':14}\n",
    "d2={v:k for k,v in d.items() }\n",
    "print(d2)"
   ]
  },
  {
   "cell_type": "code",
   "execution_count": 5,
   "id": "87e3b8da",
   "metadata": {},
   "outputs": [
    {
     "name": "stdout",
     "output_type": "stream",
     "text": [
      "['x', '2', 'x', '4', 'x', '6', 'x', '8', 'x']\n",
      "x2x4x6x8x\n",
      "2468\n"
     ]
    }
   ],
   "source": [
    "# 错题 split与join的使用\n",
    "n='1-2-3-4-5-6-7-8-9'\n",
    "ml=n.split('-') #返回[1,2,3,4,5,6,7,8,9]\n",
    "ml[::2]=5*'x'\n",
    "print(ml)\n",
    "out=''.join(ml)#将列表ml拼接生成一个字符串\n",
    "print(out)\n",
    "out=out.replace('x','') #将字符串中的'x'替换掉\n",
    "print(out)"
   ]
  },
  {
   "cell_type": "code",
   "execution_count": 15,
   "id": "9e2a32bf",
   "metadata": {},
   "outputs": [
    {
     "name": "stdout",
     "output_type": "stream",
     "text": [
      "4\n"
     ]
    }
   ],
   "source": [
    "# 难题 集合与取模\n",
    "set1=set()\n",
    "for n in range(100000):\n",
    "    set1.add(n%4) # set中不保留重复的元素，对于任意数取4的模，只能有0，1，2，3 一共四种结果\n",
    "print(len(set1))"
   ]
  },
  {
   "cell_type": "code",
   "execution_count": 5,
   "id": "cc321627",
   "metadata": {},
   "outputs": [
    {
     "name": "stdout",
     "output_type": "stream",
     "text": [
      "[['ddsd'], ['坚持稳中求进', '以进促稳', '先立后破。'], ['稳是大局和基础，要多出有利于稳预期、稳增长、稳就业的政策。'], ['进是方向和动力，要有力进取，该立的要积极主动立起来，'], ['该破的要在立的基础上坚决破，不断积累更多积极因素，实现经济社会大局稳定。'], ['同时，调整政策和推动改革要稳扎稳打，把握好时度效，不能脱离实际、急于求成。'], ['sdsd']] 7\n"
     ]
    }
   ],
   "source": [
    "#错题 split的用法\n",
    "\n",
    "text ='''\n",
    "坚持稳中求进，以进促稳，先立后破。\n",
    "稳是大局和基础，要多出有利于稳预期、稳增长、稳就业的政策。\n",
    "进是方向和动力，要有力进取，该立的要积极主动立起来，\n",
    "该破的要在立的基础上坚决破，不断积累更多积极因素，实现经济社会大局稳定。\n",
    "同时，调整政策和推动改革要稳扎稳打，把握好时度效，不能脱离实际、急于求成。'''\n",
    "w = [[x for x in line.split() if len(x)] for line in text.split('\\n')]\n",
    "#分行时形成的是列表，此时列表内有7个元素，不用管列表内部的细分操作，len(w)代表的是最外层的计数\n",
    "print(w,len(w))"
   ]
  },
  {
   "cell_type": "code",
   "execution_count": 2,
   "id": "ffb69bbf",
   "metadata": {},
   "outputs": [
    {
     "data": {
      "text/plain": [
       "False"
      ]
     },
     "execution_count": 2,
     "metadata": {},
     "output_type": "execute_result"
    }
   ],
   "source": [
    "# 序列比较 ，按顺序逐个元素进行比较\n",
    "a=[1,2,3,4]\n",
    "b=[4,3,2,1] \n",
    "a>b #第一个元素 1<4 则 a<b"
   ]
  },
  {
   "cell_type": "code",
   "execution_count": 6,
   "id": "04506fd8",
   "metadata": {},
   "outputs": [
    {
     "name": "stdout",
     "output_type": "stream",
     "text": [
      "<class 'int'>\n",
      "<class 'tuple'> 1\n"
     ]
    }
   ],
   "source": [
    "#元组中只有一个元素时不能省略逗号\n",
    "a=(1)\n",
    "b=1,\n",
    "print(type(a))\n",
    "print(type(b),len(b))"
   ]
  },
  {
   "cell_type": "code",
   "execution_count": 7,
   "id": "f6d579b2",
   "metadata": {},
   "outputs": [
    {
     "name": "stdout",
     "output_type": "stream",
     "text": [
      "1%1\n"
     ]
    }
   ],
   "source": [
    "#格式化字符串 \n",
    "# %d 指的是整数 d 后的两个%%是 转义字符，用于在字符串中显示一个百分号\n",
    "print('%d%%%d'%(3/2,3%2)) "
   ]
  },
  {
   "cell_type": "code",
   "execution_count": null,
   "id": "046a1dd5",
   "metadata": {},
   "outputs": [],
   "source": []
  }
 ],
 "metadata": {
  "kernelspec": {
   "display_name": "Python 3",
   "language": "python",
   "name": "python3"
  },
  "language_info": {
   "codemirror_mode": {
    "name": "ipython",
    "version": 3
   },
   "file_extension": ".py",
   "mimetype": "text/x-python",
   "name": "python",
   "nbconvert_exporter": "python",
   "pygments_lexer": "ipython3",
   "version": "3.7.6"
  }
 },
 "nbformat": 4,
 "nbformat_minor": 5
}
